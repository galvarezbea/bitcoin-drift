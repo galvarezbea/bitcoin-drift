{
 "cells": [
  {
   "cell_type": "markdown",
   "id": "5638d243-c2c4-4bcc-884f-9e4291d532cd",
   "metadata": {},
   "source": [
    "# Derivas de concepto en la mempool. Método ADWIN"
   ]
  },
  {
   "cell_type": "markdown",
   "id": "e5180ab6-a096-4e09-94a0-3929e5fe39ad",
   "metadata": {},
   "source": [
    "Detección de derivas de concepto en el total de transacciones de la mempool por intervalo de tiempo, a partir del método matemático ADWIN, con salida gráfica."
   ]
  },
  {
   "cell_type": "code",
   "execution_count": 1,
   "id": "19c2b922-67e7-44ca-93d1-165741520e44",
   "metadata": {},
   "outputs": [
    {
     "name": "stdout",
     "output_type": "stream",
     "text": [
      "Defaulting to user installation because normal site-packages is not writeable\n",
      "Requirement already satisfied: river in c:\\users\\usuario\\appdata\\roaming\\python\\python312\\site-packages (0.21.2)\n",
      "Requirement already satisfied: numpy<2.0.0,>=1.23.0 in c:\\programdata\\anaconda3\\lib\\site-packages (from river) (1.26.4)\n",
      "Requirement already satisfied: pandas<3.0,>=2.1 in c:\\programdata\\anaconda3\\lib\\site-packages (from river) (2.2.2)\n",
      "Requirement already satisfied: scipy<2.0.0,>=1.12.1 in c:\\programdata\\anaconda3\\lib\\site-packages (from river) (1.13.1)\n",
      "Requirement already satisfied: python-dateutil>=2.8.2 in c:\\programdata\\anaconda3\\lib\\site-packages (from pandas<3.0,>=2.1->river) (2.9.0.post0)\n",
      "Requirement already satisfied: pytz>=2020.1 in c:\\programdata\\anaconda3\\lib\\site-packages (from pandas<3.0,>=2.1->river) (2024.1)\n",
      "Requirement already satisfied: tzdata>=2022.7 in c:\\programdata\\anaconda3\\lib\\site-packages (from pandas<3.0,>=2.1->river) (2023.3)\n",
      "Requirement already satisfied: six>=1.5 in c:\\programdata\\anaconda3\\lib\\site-packages (from python-dateutil>=2.8.2->pandas<3.0,>=2.1->river) (1.16.0)\n"
     ]
    }
   ],
   "source": [
    "!pip install river"
   ]
  },
  {
   "cell_type": "code",
   "execution_count": 2,
   "id": "9033a31a-311b-4090-b8ed-d2f188d2aace",
   "metadata": {},
   "outputs": [],
   "source": [
    "from btc_connect import btc_connect\n",
    "from bitcoinrpc.authproxy import JSONRPCException\n",
    "from river import drift\n",
    "from datetime import datetime\n",
    "import time, matplotlib.pyplot as plt"
   ]
  },
  {
   "cell_type": "code",
   "execution_count": 3,
   "id": "553462d8-0da5-44fe-9e6c-5c8d12144142",
   "metadata": {},
   "outputs": [],
   "source": [
    "# Conección al nodo local\n",
    "rpc_connection = btc_connect()"
   ]
  },
  {
   "cell_type": "code",
   "execution_count": 4,
   "id": "f28e110d-e98c-46ad-abba-18a48821bd8e",
   "metadata": {},
   "outputs": [],
   "source": [
    "# Adaptación de función para graficar el total de transacciones de la mempool y las derivas de concepto detectadas\n",
    "# https://riverml.xyz/latest/introduction/getting-started/concept-drift-detection/\n",
    "def plot_transaction(x, y, xlabel, drift=None):\n",
    "    fig, ax = plt.subplots(figsize=(8,4))\n",
    "    ax.plot(x, y, label=\"transacciones\")\n",
    "    ax.set_ylim(bottom=0)\n",
    "    ax.set_title(\"Número de transacciones pendientes\")\n",
    "    ax.set_xlabel(xlabel)\n",
    "    ax.set_ylabel(\"Transacciones\")\n",
    "    if drift is not None:\n",
    "        legend=0\n",
    "        for drift_detected in drift:\n",
    "            if legend==0:\n",
    "                ax.axvline(drift_detected, color=\"red\", linestyle=\":\", label=\"derivas de concepto\")\n",
    "                legend=1\n",
    "            else:\n",
    "                ax.axvline(drift_detected, color=\"red\", linestyle=\":\")\n",
    "    fig.legend(loc=\"outside upper left\")\n",
    "    plt.show()"
   ]
  },
  {
   "cell_type": "code",
   "execution_count": 5,
   "id": "dec79104-f718-404d-8946-30e25ab3e313",
   "metadata": {},
   "outputs": [
    {
     "ename": "TimeoutError",
     "evalue": "timed out",
     "output_type": "error",
     "traceback": [
      "\u001b[1;31m---------------------------------------------------------------------------\u001b[0m",
      "\u001b[1;31mTimeoutError\u001b[0m                              Traceback (most recent call last)",
      "Cell \u001b[1;32mIn[5], line 30\u001b[0m\n\u001b[0;32m     27\u001b[0m \u001b[38;5;28;01mwhile\u001b[39;00m i \u001b[38;5;241m<\u001b[39m repetitions:\n\u001b[0;32m     28\u001b[0m     \u001b[38;5;28;01mtry\u001b[39;00m:\n\u001b[0;32m     29\u001b[0m         \u001b[38;5;66;03m# Obtiente la mempool del nodo local\u001b[39;00m\n\u001b[1;32m---> 30\u001b[0m         mempool \u001b[38;5;241m=\u001b[39m rpc_connection\u001b[38;5;241m.\u001b[39mgetmempoolinfo()\n\u001b[0;32m     31\u001b[0m     \u001b[38;5;28;01mexcept\u001b[39;00m JSONRPCException \u001b[38;5;28;01mas\u001b[39;00m e:\n\u001b[0;32m     32\u001b[0m         \u001b[38;5;28mprint\u001b[39m(\u001b[38;5;124mf\u001b[39m\u001b[38;5;124m\"\u001b[39m\u001b[38;5;124mError al obtener la mempool del nodo local: \u001b[39m\u001b[38;5;132;01m{\u001b[39;00me\u001b[38;5;132;01m}\u001b[39;00m\u001b[38;5;124m\"\u001b[39m)\n",
      "File \u001b[1;32m~\\AppData\\Roaming\\Python\\Python312\\site-packages\\bitcoinrpc\\authproxy.py:139\u001b[0m, in \u001b[0;36mAuthServiceProxy.__call__\u001b[1;34m(self, *args)\u001b[0m\n\u001b[0;32m    132\u001b[0m \u001b[38;5;28mself\u001b[39m\u001b[38;5;241m.\u001b[39m__conn\u001b[38;5;241m.\u001b[39mrequest(\u001b[38;5;124m'\u001b[39m\u001b[38;5;124mPOST\u001b[39m\u001b[38;5;124m'\u001b[39m, \u001b[38;5;28mself\u001b[39m\u001b[38;5;241m.\u001b[39m__url\u001b[38;5;241m.\u001b[39mpath, postdata,\n\u001b[0;32m    133\u001b[0m                     {\u001b[38;5;124m'\u001b[39m\u001b[38;5;124mHost\u001b[39m\u001b[38;5;124m'\u001b[39m: \u001b[38;5;28mself\u001b[39m\u001b[38;5;241m.\u001b[39m__url\u001b[38;5;241m.\u001b[39mhostname,\n\u001b[0;32m    134\u001b[0m                      \u001b[38;5;124m'\u001b[39m\u001b[38;5;124mUser-Agent\u001b[39m\u001b[38;5;124m'\u001b[39m: USER_AGENT,\n\u001b[0;32m    135\u001b[0m                      \u001b[38;5;124m'\u001b[39m\u001b[38;5;124mAuthorization\u001b[39m\u001b[38;5;124m'\u001b[39m: \u001b[38;5;28mself\u001b[39m\u001b[38;5;241m.\u001b[39m__auth_header,\n\u001b[0;32m    136\u001b[0m                      \u001b[38;5;124m'\u001b[39m\u001b[38;5;124mContent-type\u001b[39m\u001b[38;5;124m'\u001b[39m: \u001b[38;5;124m'\u001b[39m\u001b[38;5;124mapplication/json\u001b[39m\u001b[38;5;124m'\u001b[39m})\n\u001b[0;32m    137\u001b[0m \u001b[38;5;28mself\u001b[39m\u001b[38;5;241m.\u001b[39m__conn\u001b[38;5;241m.\u001b[39msock\u001b[38;5;241m.\u001b[39msettimeout(\u001b[38;5;28mself\u001b[39m\u001b[38;5;241m.\u001b[39m__timeout)\n\u001b[1;32m--> 139\u001b[0m response \u001b[38;5;241m=\u001b[39m \u001b[38;5;28mself\u001b[39m\u001b[38;5;241m.\u001b[39m_get_response()\n\u001b[0;32m    140\u001b[0m \u001b[38;5;28;01mif\u001b[39;00m response\u001b[38;5;241m.\u001b[39mget(\u001b[38;5;124m'\u001b[39m\u001b[38;5;124merror\u001b[39m\u001b[38;5;124m'\u001b[39m) \u001b[38;5;129;01mis\u001b[39;00m \u001b[38;5;129;01mnot\u001b[39;00m \u001b[38;5;28;01mNone\u001b[39;00m:\n\u001b[0;32m    141\u001b[0m     \u001b[38;5;28;01mraise\u001b[39;00m JSONRPCException(response[\u001b[38;5;124m'\u001b[39m\u001b[38;5;124merror\u001b[39m\u001b[38;5;124m'\u001b[39m])\n",
      "File \u001b[1;32m~\\AppData\\Roaming\\Python\\Python312\\site-packages\\bitcoinrpc\\authproxy.py:179\u001b[0m, in \u001b[0;36mAuthServiceProxy._get_response\u001b[1;34m(self)\u001b[0m\n\u001b[0;32m    178\u001b[0m \u001b[38;5;28;01mdef\u001b[39;00m \u001b[38;5;21m_get_response\u001b[39m(\u001b[38;5;28mself\u001b[39m):\n\u001b[1;32m--> 179\u001b[0m     http_response \u001b[38;5;241m=\u001b[39m \u001b[38;5;28mself\u001b[39m\u001b[38;5;241m.\u001b[39m__conn\u001b[38;5;241m.\u001b[39mgetresponse()\n\u001b[0;32m    180\u001b[0m     \u001b[38;5;28;01mif\u001b[39;00m http_response \u001b[38;5;129;01mis\u001b[39;00m \u001b[38;5;28;01mNone\u001b[39;00m:\n\u001b[0;32m    181\u001b[0m         \u001b[38;5;28;01mraise\u001b[39;00m JSONRPCException({\n\u001b[0;32m    182\u001b[0m             \u001b[38;5;124m'\u001b[39m\u001b[38;5;124mcode\u001b[39m\u001b[38;5;124m'\u001b[39m: \u001b[38;5;241m-\u001b[39m\u001b[38;5;241m342\u001b[39m, \u001b[38;5;124m'\u001b[39m\u001b[38;5;124mmessage\u001b[39m\u001b[38;5;124m'\u001b[39m: \u001b[38;5;124m'\u001b[39m\u001b[38;5;124mmissing HTTP response from server\u001b[39m\u001b[38;5;124m'\u001b[39m})\n",
      "File \u001b[1;32mC:\\ProgramData\\anaconda3\\Lib\\http\\client.py:1428\u001b[0m, in \u001b[0;36mHTTPConnection.getresponse\u001b[1;34m(self)\u001b[0m\n\u001b[0;32m   1426\u001b[0m \u001b[38;5;28;01mtry\u001b[39;00m:\n\u001b[0;32m   1427\u001b[0m     \u001b[38;5;28;01mtry\u001b[39;00m:\n\u001b[1;32m-> 1428\u001b[0m         response\u001b[38;5;241m.\u001b[39mbegin()\n\u001b[0;32m   1429\u001b[0m     \u001b[38;5;28;01mexcept\u001b[39;00m \u001b[38;5;167;01mConnectionError\u001b[39;00m:\n\u001b[0;32m   1430\u001b[0m         \u001b[38;5;28mself\u001b[39m\u001b[38;5;241m.\u001b[39mclose()\n",
      "File \u001b[1;32mC:\\ProgramData\\anaconda3\\Lib\\http\\client.py:331\u001b[0m, in \u001b[0;36mHTTPResponse.begin\u001b[1;34m(self)\u001b[0m\n\u001b[0;32m    329\u001b[0m \u001b[38;5;66;03m# read until we get a non-100 response\u001b[39;00m\n\u001b[0;32m    330\u001b[0m \u001b[38;5;28;01mwhile\u001b[39;00m \u001b[38;5;28;01mTrue\u001b[39;00m:\n\u001b[1;32m--> 331\u001b[0m     version, status, reason \u001b[38;5;241m=\u001b[39m \u001b[38;5;28mself\u001b[39m\u001b[38;5;241m.\u001b[39m_read_status()\n\u001b[0;32m    332\u001b[0m     \u001b[38;5;28;01mif\u001b[39;00m status \u001b[38;5;241m!=\u001b[39m CONTINUE:\n\u001b[0;32m    333\u001b[0m         \u001b[38;5;28;01mbreak\u001b[39;00m\n",
      "File \u001b[1;32mC:\\ProgramData\\anaconda3\\Lib\\http\\client.py:292\u001b[0m, in \u001b[0;36mHTTPResponse._read_status\u001b[1;34m(self)\u001b[0m\n\u001b[0;32m    291\u001b[0m \u001b[38;5;28;01mdef\u001b[39;00m \u001b[38;5;21m_read_status\u001b[39m(\u001b[38;5;28mself\u001b[39m):\n\u001b[1;32m--> 292\u001b[0m     line \u001b[38;5;241m=\u001b[39m \u001b[38;5;28mstr\u001b[39m(\u001b[38;5;28mself\u001b[39m\u001b[38;5;241m.\u001b[39mfp\u001b[38;5;241m.\u001b[39mreadline(_MAXLINE \u001b[38;5;241m+\u001b[39m \u001b[38;5;241m1\u001b[39m), \u001b[38;5;124m\"\u001b[39m\u001b[38;5;124miso-8859-1\u001b[39m\u001b[38;5;124m\"\u001b[39m)\n\u001b[0;32m    293\u001b[0m     \u001b[38;5;28;01mif\u001b[39;00m \u001b[38;5;28mlen\u001b[39m(line) \u001b[38;5;241m>\u001b[39m _MAXLINE:\n\u001b[0;32m    294\u001b[0m         \u001b[38;5;28;01mraise\u001b[39;00m LineTooLong(\u001b[38;5;124m\"\u001b[39m\u001b[38;5;124mstatus line\u001b[39m\u001b[38;5;124m\"\u001b[39m)\n",
      "File \u001b[1;32mC:\\ProgramData\\anaconda3\\Lib\\socket.py:708\u001b[0m, in \u001b[0;36mSocketIO.readinto\u001b[1;34m(self, b)\u001b[0m\n\u001b[0;32m    706\u001b[0m \u001b[38;5;28;01mwhile\u001b[39;00m \u001b[38;5;28;01mTrue\u001b[39;00m:\n\u001b[0;32m    707\u001b[0m     \u001b[38;5;28;01mtry\u001b[39;00m:\n\u001b[1;32m--> 708\u001b[0m         \u001b[38;5;28;01mreturn\u001b[39;00m \u001b[38;5;28mself\u001b[39m\u001b[38;5;241m.\u001b[39m_sock\u001b[38;5;241m.\u001b[39mrecv_into(b)\n\u001b[0;32m    709\u001b[0m     \u001b[38;5;28;01mexcept\u001b[39;00m timeout:\n\u001b[0;32m    710\u001b[0m         \u001b[38;5;28mself\u001b[39m\u001b[38;5;241m.\u001b[39m_timeout_occurred \u001b[38;5;241m=\u001b[39m \u001b[38;5;28;01mTrue\u001b[39;00m\n",
      "\u001b[1;31mTimeoutError\u001b[0m: timed out"
     ]
    }
   ],
   "source": [
    "mempool_iteration = []\n",
    "mempool_datetime = []\n",
    "mempool_transactions = []\n",
    "\n",
    "# ADWIN Valores por defecto:\n",
    "# https://riverml.xyz/dev/api/drift/ADWIN/\n",
    "# delta=0.002         -> Valor de significancia \n",
    "# clock=32            -> Frecuencia con la que se comprueban cambios. 1 => con cada nuevo dato\n",
    "# max_buckets=5       -> Cantidad máxima de contenedores de datos de cada tamaño que se debe mantener, como paso previo a ser fusionados\n",
    "# min_window_length=5 -> Longitud mínima que debe tener una subventana para ser evaluada \n",
    "# grace_period=10     -> Cantidad mínima de datos exigida para realizar la detección de cambios\n",
    "\n",
    "#drift_detector = drift.ADWIN()\n",
    "drift_detector = drift.ADWIN(delta=0.00002, clock=64)\n",
    "\n",
    "mempool_iteration_drift = [] # Iteración en la que se detecta una deriva de concepto en la mempool\n",
    "mempool_datetime_drift = []  # Instante temporal en el que se detecta una deriva de concepto en la mempool\n",
    "mempool_transactions_drift = []  # Número total de transacciones que activa una deriva\n",
    "\n",
    "start=\"\"\n",
    "i = 0\n",
    "\n",
    "#repetitions = 360  # 1 hora\n",
    "repetitions = 4320  # 12 horas\n",
    "seconds = 10\n",
    "\n",
    "while i < repetitions:\n",
    "    try:\n",
    "        # Obtiente la mempool del nodo local\n",
    "        mempool = rpc_connection.getmempoolinfo()\n",
    "    except JSONRPCException as e:\n",
    "        print(f\"Error al obtener la mempool del nodo local: {e}\")\n",
    "        mempool = {}\n",
    "\n",
    "    timestamp = datetime.now().strftime('%d/%m/%Y %H:%M:%S')\n",
    "    if start == \"\":\n",
    "        start = timestamp\n",
    "\n",
    "    mempool_iteration.append(i)\n",
    "    mempool_datetime.append(timestamp)\n",
    "    mempool_transactions.append(mempool[\"size\"])\n",
    "    \n",
    "    drift_detector.update(mempool[\"size\"])\n",
    "    if drift_detector.drift_detected:  # Deriva de concepto detectada\n",
    "        mempool_iteration_drift.append(i)\n",
    "        mempool_datetime_drift.append(timestamp)\n",
    "        mempool_transactions_drift.append(mempool[\"size\"])\n",
    "    i+=1\n",
    "    # Tiempo para realizar la siguiente solicitud\n",
    "    time.sleep(seconds)\n",
    "   \n",
    "end = timestamp\n",
    "xlabel = f\"Inicio: {start} - Fin: {end}. Número de iteraciones: {i}\""
   ]
  },
  {
   "cell_type": "markdown",
   "id": "a65a0393-d75a-4cf6-8c7f-0168bc77a018",
   "metadata": {},
   "source": [
    "### Derivas de concepto detectadas"
   ]
  },
  {
   "cell_type": "code",
   "execution_count": null,
   "id": "dd00861e-f8dc-4ab7-b4ae-74789a44cc31",
   "metadata": {},
   "outputs": [],
   "source": [
    "plot_transaction(mempool_iteration, mempool_transactions, xlabel, mempool_iteration_drift)"
   ]
  },
  {
   "cell_type": "markdown",
   "id": "86129451-6ab8-4d77-a6a7-6fde8e0c8644",
   "metadata": {},
   "source": [
    "### Instante temporal en el que se detecta una deriva de concepto y número de transacciones"
   ]
  },
  {
   "cell_type": "code",
   "execution_count": null,
   "id": "b11cf519-7cf7-4869-bb03-d42d2653032f",
   "metadata": {},
   "outputs": [],
   "source": [
    "for x, y in (zip(mempool_datetime_drift, mempool_transactions_drift)):\n",
    "    print(f\"Instante temporal {x}: {y} transacciones\")"
   ]
  }
 ],
 "metadata": {
  "kernelspec": {
   "display_name": "Python 3 (ipykernel)",
   "language": "python",
   "name": "python3"
  },
  "language_info": {
   "codemirror_mode": {
    "name": "ipython",
    "version": 3
   },
   "file_extension": ".py",
   "mimetype": "text/x-python",
   "name": "python",
   "nbconvert_exporter": "python",
   "pygments_lexer": "ipython3",
   "version": "3.12.4"
  }
 },
 "nbformat": 4,
 "nbformat_minor": 5
}
