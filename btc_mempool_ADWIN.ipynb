{
 "cells": [
  {
   "cell_type": "markdown",
   "id": "5638d243-c2c4-4bcc-884f-9e4291d532cd",
   "metadata": {},
   "source": [
    "# Derivas de concepto en la mempool. Método ADWIN"
   ]
  },
  {
   "cell_type": "code",
   "execution_count": 1,
   "id": "19c2b922-67e7-44ca-93d1-165741520e44",
   "metadata": {},
   "outputs": [
    {
     "name": "stdout",
     "output_type": "stream",
     "text": [
      "Defaulting to user installation because normal site-packages is not writeable\n",
      "Requirement already satisfied: river in c:\\users\\usuario\\appdata\\roaming\\python\\python312\\site-packages (0.21.2)\n",
      "Requirement already satisfied: numpy<2.0.0,>=1.23.0 in c:\\programdata\\anaconda3\\lib\\site-packages (from river) (1.26.4)\n",
      "Requirement already satisfied: pandas<3.0,>=2.1 in c:\\programdata\\anaconda3\\lib\\site-packages (from river) (2.2.2)\n",
      "Requirement already satisfied: scipy<2.0.0,>=1.12.1 in c:\\programdata\\anaconda3\\lib\\site-packages (from river) (1.13.1)\n",
      "Requirement already satisfied: python-dateutil>=2.8.2 in c:\\programdata\\anaconda3\\lib\\site-packages (from pandas<3.0,>=2.1->river) (2.9.0.post0)\n",
      "Requirement already satisfied: pytz>=2020.1 in c:\\programdata\\anaconda3\\lib\\site-packages (from pandas<3.0,>=2.1->river) (2024.1)\n",
      "Requirement already satisfied: tzdata>=2022.7 in c:\\programdata\\anaconda3\\lib\\site-packages (from pandas<3.0,>=2.1->river) (2023.3)\n",
      "Requirement already satisfied: six>=1.5 in c:\\programdata\\anaconda3\\lib\\site-packages (from python-dateutil>=2.8.2->pandas<3.0,>=2.1->river) (1.16.0)\n"
     ]
    }
   ],
   "source": [
    "!pip install river"
   ]
  },
  {
   "cell_type": "code",
   "execution_count": 2,
   "id": "9033a31a-311b-4090-b8ed-d2f188d2aace",
   "metadata": {},
   "outputs": [],
   "source": [
    "from btc_connect import btc_connect\n",
    "from bitcoinrpc.authproxy import JSONRPCException\n",
    "from river import drift\n",
    "from datetime import datetime\n",
    "import time, matplotlib.pyplot as plt"
   ]
  },
  {
   "cell_type": "code",
   "execution_count": 3,
   "id": "553462d8-0da5-44fe-9e6c-5c8d12144142",
   "metadata": {},
   "outputs": [],
   "source": [
    "# Conección al nodo local\n",
    "rpc_connection = btc_connect()"
   ]
  },
  {
   "cell_type": "code",
   "execution_count": 4,
   "id": "f28e110d-e98c-46ad-abba-18a48821bd8e",
   "metadata": {},
   "outputs": [],
   "source": [
    "# Adaptación de función para graficar el total de transacciones de la mempool y las derivas de concepto detectadas\n",
    "# https://riverml.xyz/latest/introduction/getting-started/concept-drift-detection/\n",
    "def plot_transaction(x, y, xlabel, drift=None):\n",
    "    fig, ax = plt.subplots(figsize=(8,4))\n",
    "    ax.plot(x, y, label=\"transacciones\")\n",
    "    ax.set_ylim(bottom=0)\n",
    "    ax.set_title(\"Número de transacciones pendientes\")\n",
    "    ax.set_xlabel(xlabel)\n",
    "    ax.set_ylabel(\"Transacciones\")\n",
    "    if drift is not None:\n",
    "        legend=0\n",
    "        for drift_detected in drift:\n",
    "            if legend==0:\n",
    "                ax.axvline(drift_detected, color=\"red\", linestyle=\":\", label=\"derivas de concepto\")\n",
    "                legend=1\n",
    "            else:\n",
    "                ax.axvline(drift_detected, color=\"red\", linestyle=\":\")\n",
    "    fig.legend(loc=\"outside upper left\")\n",
    "    plt.show()"
   ]
  },
  {
   "cell_type": "code",
   "execution_count": null,
   "id": "dec79104-f718-404d-8946-30e25ab3e313",
   "metadata": {},
   "outputs": [],
   "source": [
    "mempool_iteration = []\n",
    "mempool_datetime = []\n",
    "mempool_transactions = []\n",
    "\n",
    "# ADWIN Valores por defecto:\n",
    "# https://riverml.xyz/dev/api/drift/ADWIN/\n",
    "# delta=0.002         -> Valor de significancia \n",
    "# clock=32            -> Frecuencia con la que se comprueban cambios. 1 => con cada nuevo dato\n",
    "# max_buckets=5       -> Cantidad máxima de contenedores de datos de cada tamaño que se debe mantener, como paso previo a ser fusionados\n",
    "# min_window_length=5 -> Longitud mínima que debe tener una subventana para ser evaluada \n",
    "# grace_period=10     -> Cantidad mínima de datos exigida para realizar la detección de cambios\n",
    "\n",
    "drift_detector = drift.ADWIN()\n",
    "\n",
    "mempool_iteration_drift = [] # Iteración en la que se detecta una deriva de concepto en la mempool\n",
    "mempool_datetime_drift = []  # Instante temporal en el que se detecta una deriva de concepto en la mempool\n",
    "mempool_transactions_drift = []  # Número total de transacciones que activa una deriva\n",
    "\n",
    "start=\"\"\n",
    "i = 0\n",
    "#while i < 60:     # 1 minuto\n",
    "while i < 3600:  # 1 hora\n",
    "    try:\n",
    "        # Obtiente la mempool del nodo local\n",
    "        mempool = rpc_connection.getmempoolinfo()\n",
    "    except JSONRPCException as e:\n",
    "        print(f\"Error al obtener la mempool del nodo local: {e}\")\n",
    "        mempool = {}\n",
    "\n",
    "    timestamp = datetime.now().strftime('%d/%m/%Y %H:%M:%S')\n",
    "    if start == \"\":\n",
    "        start = timestamp\n",
    "    #print(timestamp, mempool[\"size\"])\n",
    "    mempool_iteration.append(i)\n",
    "    mempool_datetime.append(timestamp)\n",
    "    mempool_transactions.append(mempool[\"size\"])\n",
    "    \n",
    "    drift_detector.update(mempool[\"size\"])\n",
    "    if drift_detector.drift_detected:  # Deriva de concepto detectada\n",
    "        mempool_iteration_drift.append(i)\n",
    "        mempool_datetime_drift.append(timestamp)\n",
    "        mempool_transactions_drift.append(mempool[\"size\"])\n",
    "    i+=1\n",
    "    # Tiempo para realizar la siguiente solicitud\n",
    "    time.sleep(1)  # 1 segundo\n",
    "   \n",
    "end = timestamp\n",
    "xlabel = f\"Inicio: {start} - Fin: {end}. Número de iteraciones: {i}\""
   ]
  },
  {
   "cell_type": "markdown",
   "id": "a65a0393-d75a-4cf6-8c7f-0168bc77a018",
   "metadata": {},
   "source": [
    "### Derivas de concepto detectadas"
   ]
  },
  {
   "cell_type": "code",
   "execution_count": null,
   "id": "dd00861e-f8dc-4ab7-b4ae-74789a44cc31",
   "metadata": {},
   "outputs": [],
   "source": [
    "plot_transaction(mempool_iteration, mempool_transactions, xlabel, mempool_iteration_drift)"
   ]
  },
  {
   "cell_type": "markdown",
   "id": "86129451-6ab8-4d77-a6a7-6fde8e0c8644",
   "metadata": {},
   "source": [
    "### Instante temporal en el que se detecta una deriva de concepto y número de transacciones"
   ]
  },
  {
   "cell_type": "code",
   "execution_count": null,
   "id": "b11cf519-7cf7-4869-bb03-d42d2653032f",
   "metadata": {},
   "outputs": [],
   "source": [
    "for x, y in (zip(mempool_datetime_drift, mempool_transactions_drift)):\n",
    "    print(f\"Instante temporal {x}: {y} transacciones\")"
   ]
  }
 ],
 "metadata": {
  "kernelspec": {
   "display_name": "Python 3 (ipykernel)",
   "language": "python",
   "name": "python3"
  },
  "language_info": {
   "codemirror_mode": {
    "name": "ipython",
    "version": 3
   },
   "file_extension": ".py",
   "mimetype": "text/x-python",
   "name": "python",
   "nbconvert_exporter": "python",
   "pygments_lexer": "ipython3",
   "version": "3.12.4"
  }
 },
 "nbformat": 4,
 "nbformat_minor": 5
}
